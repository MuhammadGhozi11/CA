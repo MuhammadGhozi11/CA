{
  "nbformat": 4,
  "nbformat_minor": 0,
  "metadata": {
    "colab": {
      "name": "Copy of Welcome To Colaboratory",
      "provenance": [],
      "collapsed_sections": [],
      "include_colab_link": true
    },
    "kernelspec": {
      "display_name": "Python 3",
      "name": "python3"
    }
  },
  "cells": [
    {
      "cell_type": "markdown",
      "metadata": {
        "id": "view-in-github",
        "colab_type": "text"
      },
      "source": [
        "<a href=\"https://colab.research.google.com/github/MuhammadGhozi11/CA/blob/main/pelatihan%20oltex%202.ipynb\" target=\"_parent\"><img src=\"https://colab.research.google.com/assets/colab-badge.svg\" alt=\"Open In Colab\"/></a>"
      ]
    },
    {
      "cell_type": "code",
      "metadata": {
        "colab": {
          "base_uri": "https://localhost:8080/"
        },
        "id": "T_-OMDBoirdc",
        "outputId": "e33591e1-0b1d-402d-86e9-c425fea8b71a"
      },
      "source": [
        "print(\"hello world\")"
      ],
      "execution_count": 1,
      "outputs": [
        {
          "output_type": "stream",
          "text": [
            "hello world\n"
          ],
          "name": "stdout"
        }
      ]
    },
    {
      "cell_type": "code",
      "metadata": {
        "colab": {
          "base_uri": "https://localhost:8080/"
        },
        "id": "eV719OUFiy7p",
        "outputId": "695b9952-c632-40b8-e4ca-2795e7abebf2"
      },
      "source": [
        "#if.kondisional\n",
        "x = int(input('masukan angka :'))\n",
        "if x<0:\n",
        "  print(\"Bilangan tersebut adalah negatif\")\n",
        "elif x==0:\n",
        "  print(\"nol\")\n",
        "else:\n",
        "  print(\"bilangan positif\")"
      ],
      "execution_count": 2,
      "outputs": [
        {
          "output_type": "stream",
          "text": [
            "masukan angka :0\n",
            "nol\n"
          ],
          "name": "stdout"
        }
      ]
    },
    {
      "cell_type": "code",
      "metadata": {
        "colab": {
          "base_uri": "https://localhost:8080/"
        },
        "id": "IJnJMzD0jeK3",
        "outputId": "723d01b4-a0ca-4e8d-fbb1-1c0c8eb93704"
      },
      "source": [
        "#while kondisional\n",
        "a = 0\n",
        "while a < 10:\n",
        "  print(a)\n",
        "  a = a+1"
      ],
      "execution_count": 1,
      "outputs": [
        {
          "output_type": "stream",
          "text": [
            "0\n",
            "1\n",
            "2\n",
            "3\n",
            "4\n",
            "5\n",
            "6\n",
            "7\n",
            "8\n",
            "9\n"
          ],
          "name": "stdout"
        }
      ]
    },
    {
      "cell_type": "code",
      "metadata": {
        "colab": {
          "base_uri": "https://localhost:8080/"
        },
        "id": "vjnjZjCGk-VI",
        "outputId": "760a026e-e28b-44a3-ef62-04b649dd5f0a"
      },
      "source": [
        "#while kondisional modified\n",
        "a = 0\n",
        "while a < 10:\n",
        "  print(a, end=',' )\n",
        "  a= a+1"
      ],
      "execution_count": 1,
      "outputs": [
        {
          "output_type": "stream",
          "text": [
            "0,1,2,3,4,5,6,7,8,9,"
          ],
          "name": "stdout"
        }
      ]
    },
    {
      "cell_type": "code",
      "metadata": {
        "colab": {
          "base_uri": "https://localhost:8080/"
        },
        "id": "3NzjqzIPlSE3",
        "outputId": "d3b9f74a-591d-476e-a8a5-c9dd07a103b3"
      },
      "source": [
        "#for kondisional \n",
        "makanan = ['pizza','burger','spageti','ayam']\n",
        "print(\"banyaknya jumlah variable dalam list makanan\", len(makanan))\n",
        "print(\"banyaknya jumlah huruf dalam tiap variable :\")\n",
        "for m in makanan:\n",
        "  print(m, len(m))"
      ],
      "execution_count": 1,
      "outputs": [
        {
          "output_type": "stream",
          "text": [
            "banyaknya jumlah variable dalam list makanan 4\n",
            "banyaknya jumlah huruf dalam tiap variable :\n",
            "pizza 5\n",
            "burger 6\n",
            "spageti 7\n",
            "ayam 4\n"
          ],
          "name": "stdout"
        }
      ]
    },
    {
      "cell_type": "code",
      "metadata": {
        "id": "Hsu8mtp5mjZW"
      },
      "source": [
        "#menambahkan variable\n",
        "for m in makanan[:]:\n",
        "  if len(m) > 6 :\n",
        "    makanan.insert(0,m)"
      ],
      "execution_count": null,
      "outputs": []
    },
    {
      "cell_type": "code",
      "metadata": {
        "colab": {
          "base_uri": "https://localhost:8080/"
        },
        "id": "0zXOAyVWrRTQ",
        "outputId": "776d37a2-2b78-4397-a96a-7cfb40fbd0dd"
      },
      "source": [
        "#fungsi range\n",
        "for i in range(6):\n",
        "  print(i)"
      ],
      "execution_count": 3,
      "outputs": [
        {
          "output_type": "stream",
          "text": [
            "0\n",
            "1\n",
            "2\n",
            "3\n",
            "4\n",
            "5\n"
          ],
          "name": "stdout"
        }
      ]
    },
    {
      "cell_type": "code",
      "metadata": {
        "colab": {
          "base_uri": "https://localhost:8080/"
        },
        "id": "58YyFOA9rjmb",
        "outputId": "60efa886-1863-47f7-b029-b0ecb8608aee"
      },
      "source": [
        "print(range(2,10,2))"
      ],
      "execution_count": 4,
      "outputs": [
        {
          "output_type": "stream",
          "text": [
            "range(2, 10, 2)\n"
          ],
          "name": "stdout"
        }
      ]
    },
    {
      "cell_type": "code",
      "metadata": {
        "colab": {
          "base_uri": "https://localhost:8080/"
        },
        "id": "2rAtjKFErs85",
        "outputId": "abed322c-5500-4c35-d579-00688a83f59c"
      },
      "source": [
        "list(range(2,10,2))"
      ],
      "execution_count": 5,
      "outputs": [
        {
          "output_type": "execute_result",
          "data": {
            "text/plain": [
              "[2, 4, 6, 8]"
            ]
          },
          "metadata": {
            "tags": []
          },
          "execution_count": 5
        }
      ]
    },
    {
      "cell_type": "code",
      "metadata": {
        "colab": {
          "base_uri": "https://localhost:8080/"
        },
        "id": "yBkVQLN7rxG0",
        "outputId": "16a0050c-bb7d-44fe-d0b3-fbdbcebaf1eb"
      },
      "source": [
        "print(*range(1,10,2,), sep='-')"
      ],
      "execution_count": 8,
      "outputs": [
        {
          "output_type": "stream",
          "text": [
            "1-3-5-7-9\n"
          ],
          "name": "stdout"
        }
      ]
    },
    {
      "cell_type": "code",
      "metadata": {
        "colab": {
          "base_uri": "https://localhost:8080/"
        },
        "id": "MRFupuYyr77y",
        "outputId": "2b715e36-4bb6-4d2a-eb3e-be886c15c6b7"
      },
      "source": [
        "kalimat = ['jangan','lupa','bersyukur','hari','ini']\n",
        "for i in range(len(kalimat)):\n",
        "  print(i, kalimat[i])"
      ],
      "execution_count": 9,
      "outputs": [
        {
          "output_type": "stream",
          "text": [
            "0 jangan\n",
            "1 lupa\n",
            "2 bersyukur\n",
            "3 hari\n",
            "4 ini\n"
          ],
          "name": "stdout"
        }
      ]
    },
    {
      "cell_type": "code",
      "metadata": {
        "id": "e_il9Ho-ssmk"
      },
      "source": [
        "#pembuatan fungsi\n",
        "def f(n) :\n",
        "  a = 0\n",
        "  while a<n :\n",
        "    print(a, end=',')\n",
        "    a = a+1"
      ],
      "execution_count": 13,
      "outputs": []
    },
    {
      "cell_type": "code",
      "metadata": {
        "colab": {
          "base_uri": "https://localhost:8080/"
        },
        "id": "zMGiWYpgtOpP",
        "outputId": "aa1d54f0-7125-4f72-f815-2bfd3387434d"
      },
      "source": [
        "f(15)"
      ],
      "execution_count": 14,
      "outputs": [
        {
          "output_type": "stream",
          "text": [
            "0,1,2,3,4,5,6,7,8,9,10,11,12,13,14,"
          ],
          "name": "stdout"
        }
      ]
    },
    {
      "cell_type": "code",
      "metadata": {
        "colab": {
          "base_uri": "https://localhost:8080/"
        },
        "id": "r4ZlV_lUty7s",
        "outputId": "43e54a17-703c-413b-e0dc-c652eff1b0f6"
      },
      "source": [
        "x = 15\n",
        "y = f(x)"
      ],
      "execution_count": 15,
      "outputs": [
        {
          "output_type": "stream",
          "text": [
            "0,1,2,3,4,5,6,7,8,9,10,11,12,13,14,"
          ],
          "name": "stdout"
        }
      ]
    },
    {
      "cell_type": "code",
      "metadata": {
        "colab": {
          "base_uri": "https://localhost:8080/"
        },
        "id": "sEnZsvhqt3-F",
        "outputId": "413902f8-35dc-44cc-e6bd-39076ed7a1ad"
      },
      "source": [
        "print(y)"
      ],
      "execution_count": 16,
      "outputs": [
        {
          "output_type": "stream",
          "text": [
            "None\n"
          ],
          "name": "stdout"
        }
      ]
    },
    {
      "cell_type": "code",
      "metadata": {
        "id": "mZOCnmxkt8l8"
      },
      "source": [
        "def f2(n):\n",
        "  hasil = []\n",
        "  a=0\n",
        "  while a<n :\n",
        "    hasil.append(a)\n",
        "    print(a, end=',')\n",
        "    a = a+1\n",
        "  return hasil"
      ],
      "execution_count": 1,
      "outputs": []
    },
    {
      "cell_type": "code",
      "metadata": {
        "colab": {
          "base_uri": "https://localhost:8080/"
        },
        "id": "w6LD0fNDuUh5",
        "outputId": "cf2ba482-76b3-49e8-8804-f8cab1a0c6de"
      },
      "source": [
        "x = 15\n",
        "y= f2(x)"
      ],
      "execution_count": 2,
      "outputs": [
        {
          "output_type": "stream",
          "text": [
            "0,1,2,3,4,5,6,7,8,9,10,11,12,13,14,"
          ],
          "name": "stdout"
        }
      ]
    },
    {
      "cell_type": "code",
      "metadata": {
        "colab": {
          "base_uri": "https://localhost:8080/"
        },
        "id": "t2uw8XnRvDWH",
        "outputId": "1fa2fc57-f997-41e3-c353-d962b64f1b46"
      },
      "source": [
        "print(y)"
      ],
      "execution_count": 3,
      "outputs": [
        {
          "output_type": "stream",
          "text": [
            "[0, 1, 2, 3, 4, 5, 6, 7, 8, 9, 10, 11, 12, 13, 14]\n"
          ],
          "name": "stdout"
        }
      ]
    },
    {
      "cell_type": "code",
      "metadata": {
        "colab": {
          "base_uri": "https://localhost:8080/"
        },
        "id": "JLhY-1v2vF85",
        "outputId": "1e8aa047-0f31-4766-80ae-f7f91dac7516"
      },
      "source": [
        "type(y)"
      ],
      "execution_count": 4,
      "outputs": [
        {
          "output_type": "execute_result",
          "data": {
            "text/plain": [
              "list"
            ]
          },
          "metadata": {
            "tags": []
          },
          "execution_count": 4
        }
      ]
    },
    {
      "cell_type": "code",
      "metadata": {
        "id": "aIBwCSQcvrWx"
      },
      "source": [
        "#fungsi lambda\n",
        "def pertambahan(n):\n",
        "  return lambda x:x+n"
      ],
      "execution_count": 5,
      "outputs": []
    },
    {
      "cell_type": "code",
      "metadata": {
        "id": "W5EQEz-cv1me"
      },
      "source": [
        "y = pertambahan(5)"
      ],
      "execution_count": 6,
      "outputs": []
    },
    {
      "cell_type": "code",
      "metadata": {
        "colab": {
          "base_uri": "https://localhost:8080/"
        },
        "id": "6GWI4knlwGS_",
        "outputId": "bd405e34-9d2c-4419-ede2-808923765043"
      },
      "source": [
        "y(1)"
      ],
      "execution_count": 7,
      "outputs": [
        {
          "output_type": "execute_result",
          "data": {
            "text/plain": [
              "6"
            ]
          },
          "metadata": {
            "tags": []
          },
          "execution_count": 7
        }
      ]
    },
    {
      "cell_type": "code",
      "metadata": {
        "id": "bzaWdFryxZgc"
      },
      "source": [
        "import math\n",
        "\n",
        "def panjangvektor(i,j):\n",
        "  return int(math.sqrt(i**))"
      ],
      "execution_count": null,
      "outputs": []
    }
  ]
}