{
  "nbformat": 4,
  "nbformat_minor": 0,
  "metadata": {
    "colab": {
      "name": "Welcome To Colaboratory",
      "provenance": [],
      "collapsed_sections": [],
      "include_colab_link": true
    },
    "kernelspec": {
      "display_name": "Python 3",
      "name": "python3"
    }
  },
  "cells": [
    {
      "cell_type": "markdown",
      "metadata": {
        "id": "view-in-github",
        "colab_type": "text"
      },
      "source": [
        "<a href=\"https://colab.research.google.com/github/MuhammadGhozi11/CA/blob/main/pelatihanoltex.ipynb\" target=\"_parent\"><img src=\"https://colab.research.google.com/assets/colab-badge.svg\" alt=\"Open In Colab\"/></a>"
      ]
    },
    {
      "cell_type": "code",
      "metadata": {
        "colab": {
          "base_uri": "https://localhost:8080/"
        },
        "id": "FsU69GuvX_60",
        "outputId": "c1522ef8-ab39-4193-d008-3225352a2449"
      },
      "source": [
        "#VARIABEL\n",
        "x=y=z=\"kita\"\n",
        "print(y)\n",
        "print(x)\n",
        "print(z)"
      ],
      "execution_count": 1,
      "outputs": [
        {
          "output_type": "stream",
          "text": [
            "kita\n",
            "kita\n",
            "kita\n"
          ],
          "name": "stdout"
        }
      ]
    },
    {
      "cell_type": "code",
      "metadata": {
        "colab": {
          "base_uri": "https://localhost:8080/"
        },
        "id": "6YHxg55HYwWf",
        "outputId": "f2e69cca-6bf5-403f-ddae-0cc71e088ee1"
      },
      "source": [
        "#OPERASI\n",
        "#METODE 1 \n",
        "a = 10\n",
        "b = 2\n",
        "jum_lah = a+b\n",
        "kali = a*b\n",
        "krg = a-b\n",
        "bagi = a//b\n",
        "print(\"hasil =\", jum_lah)\n",
        "print(\"hasil =\", kali)\n",
        "print(\"hasil =\", krg)\n",
        "print(\"hasil =\", bagi)"
      ],
      "execution_count": 2,
      "outputs": [
        {
          "output_type": "stream",
          "text": [
            "hasil = 12\n",
            "hasil = 20\n",
            "hasil = 8\n",
            "hasil = 5\n"
          ],
          "name": "stdout"
        }
      ]
    },
    {
      "cell_type": "code",
      "metadata": {
        "colab": {
          "base_uri": "https://localhost:8080/"
        },
        "id": "LHkbkg8GaXR2",
        "outputId": "d0d2f46c-b48b-42b4-969c-17c19e79f6da"
      },
      "source": [
        "#METODE 2\n",
        "x,y = 5,6\n",
        "y+=x\n",
        "print(\"hasil =\", y)"
      ],
      "execution_count": 1,
      "outputs": [
        {
          "output_type": "stream",
          "text": [
            "hasil = 11\n"
          ],
          "name": "stdout"
        }
      ]
    },
    {
      "cell_type": "code",
      "metadata": {
        "colab": {
          "base_uri": "https://localhost:8080/"
        },
        "id": "ajzWvUBVam05",
        "outputId": "056d028d-6969-4103-ad6c-70a93b6be40b"
      },
      "source": [
        "print(y)"
      ],
      "execution_count": 2,
      "outputs": [
        {
          "output_type": "stream",
          "text": [
            "11\n"
          ],
          "name": "stdout"
        }
      ]
    },
    {
      "cell_type": "code",
      "metadata": {
        "colab": {
          "base_uri": "https://localhost:8080/"
        },
        "id": "0a5ObZ00a0ku",
        "outputId": "8febc5e8-c3bd-4a28-c525-aa05d7cb1472"
      },
      "source": [
        "#PERPANGKATAN\n",
        "a=10\n",
        "b=4\n",
        "pgkt1= a**b\n",
        "pgkt2= b**a\n",
        "print(pgkt1)\n",
        "print(pgkt2)"
      ],
      "execution_count": 1,
      "outputs": [
        {
          "output_type": "stream",
          "text": [
            "10000\n",
            "1048576\n"
          ],
          "name": "stdout"
        }
      ]
    },
    {
      "cell_type": "code",
      "metadata": {
        "colab": {
          "base_uri": "https://localhost:8080/"
        },
        "id": "Tkfi0f6YbSmY",
        "outputId": "fb673129-87db-4247-fd88-0230c6c2cfe3"
      },
      "source": [
        "#PERBANDINGAN\n",
        "# ==, !=, >, <, >=, <=\n",
        "c=1\n",
        "d=1\n",
        "e=3\n",
        "hasil = c==d\n",
        "hasil1 = d!=c\n",
        "print(hasil)\n",
        "print(hasil1)\n"
      ],
      "execution_count": 1,
      "outputs": [
        {
          "output_type": "stream",
          "text": [
            "True\n",
            "False\n"
          ],
          "name": "stdout"
        }
      ]
    },
    {
      "cell_type": "code",
      "metadata": {
        "colab": {
          "base_uri": "https://localhost:8080/"
        },
        "id": "X8qMNv3ab8ud",
        "outputId": "b36ac139-3f5c-4d16-b953-afc3a3a17fc8"
      },
      "source": [
        "#MODULUS\n",
        "v=5\n",
        "u=4\n",
        "m = v%u\n",
        "print(m)"
      ],
      "execution_count": 1,
      "outputs": [
        {
          "output_type": "stream",
          "text": [
            "1\n"
          ],
          "name": "stdout"
        }
      ]
    },
    {
      "cell_type": "code",
      "metadata": {
        "colab": {
          "base_uri": "https://localhost:8080/"
        },
        "id": "k-VdQUJlci1Y",
        "outputId": "bb6c628c-d094-4808-d842-412089f55548"
      },
      "source": [
        "#operasi gerbang logika AND,OR,NOT,XOR(*)\n",
        "f= True\n",
        "g= True\n",
        "h= False\n",
        "gl1= f and g\n",
        "gl2 = g and h\n",
        "print(gl1)\n",
        "print(gl2)\n"
      ],
      "execution_count": 2,
      "outputs": [
        {
          "output_type": "stream",
          "text": [
            "True\n",
            "False\n"
          ],
          "name": "stdout"
        }
      ]
    },
    {
      "cell_type": "code",
      "metadata": {
        "colab": {
          "base_uri": "https://localhost:8080/"
        },
        "id": "5_c-4e9EeHyd",
        "outputId": "e64cac05-615c-4507-f4c0-5717b0508222"
      },
      "source": [
        "#Bilangan KOMPLEKS (a+bj)\n",
        "aku = 1+2j\n",
        "type(aku)"
      ],
      "execution_count": 1,
      "outputs": [
        {
          "output_type": "execute_result",
          "data": {
            "text/plain": [
              "complex"
            ]
          },
          "metadata": {
            "tags": []
          },
          "execution_count": 1
        }
      ]
    },
    {
      "cell_type": "code",
      "metadata": {
        "colab": {
          "base_uri": "https://localhost:8080/"
        },
        "id": "qcUQeB0ceWd-",
        "outputId": "2914429b-85c9-46d8-dc85-49d1a2f4b599"
      },
      "source": [
        "#LIST dan TUPLE\n",
        "k =[1, 2.3, \"pagi\"]\n",
        "l = (2, 6.75, \"malem\")\n",
        "type(l)"
      ],
      "execution_count": 1,
      "outputs": [
        {
          "output_type": "execute_result",
          "data": {
            "text/plain": [
              "tuple"
            ]
          },
          "metadata": {
            "tags": []
          },
          "execution_count": 1
        }
      ]
    },
    {
      "cell_type": "code",
      "metadata": {
        "colab": {
          "base_uri": "https://localhost:8080/"
        },
        "id": "FQYDU66se2_O",
        "outputId": "6bd2dc22-e1cf-4c0c-b497-fa157e2f4209"
      },
      "source": [
        "k = [1, 2.5, \"pagi\"]\n",
        "k[0]= 5\n",
        "print(k[0: ])"
      ],
      "execution_count": 1,
      "outputs": [
        {
          "output_type": "stream",
          "text": [
            "[5, 2.5, 'pagi']\n"
          ],
          "name": "stdout"
        }
      ]
    },
    {
      "cell_type": "code",
      "metadata": {
        "colab": {
          "base_uri": "https://localhost:8080/"
        },
        "id": "oUBqAZqTgTf-",
        "outputId": "8099fe38-93e9-4f70-8cb7-3cbede55757a"
      },
      "source": [
        "#perubahan type data, abs, round, scientific\n",
        "#1\n",
        "z = 5.67\n",
        "int(z)\n"
      ],
      "execution_count": 1,
      "outputs": [
        {
          "output_type": "execute_result",
          "data": {
            "text/plain": [
              "5"
            ]
          },
          "metadata": {
            "tags": []
          },
          "execution_count": 1
        }
      ]
    },
    {
      "cell_type": "code",
      "metadata": {
        "colab": {
          "base_uri": "https://localhost:8080/"
        },
        "id": "76I3urJZg6Iw",
        "outputId": "4d7e7055-3cbe-4b19-c0ea-37f753101637"
      },
      "source": [
        "#2\n",
        "z1= -100\n",
        "abs(z1)"
      ],
      "execution_count": 2,
      "outputs": [
        {
          "output_type": "execute_result",
          "data": {
            "text/plain": [
              "100"
            ]
          },
          "metadata": {
            "tags": []
          },
          "execution_count": 2
        }
      ]
    },
    {
      "cell_type": "code",
      "metadata": {
        "colab": {
          "base_uri": "https://localhost:8080/"
        },
        "id": "yqe7YinhgdR7",
        "outputId": "09d2bfa9-5907-4c87-88cb-5dce9cd25e56"
      },
      "source": [
        "#3\n",
        "round(9.89738273823, 3)"
      ],
      "execution_count": 1,
      "outputs": [
        {
          "output_type": "execute_result",
          "data": {
            "text/plain": [
              "9.897"
            ]
          },
          "metadata": {
            "tags": []
          },
          "execution_count": 1
        }
      ]
    },
    {
      "cell_type": "code",
      "metadata": {
        "colab": {
          "base_uri": "https://localhost:8080/"
        },
        "id": "bX0mvCj_hNzh",
        "outputId": "9098302c-9dd7-4616-91a3-64905f465bee"
      },
      "source": [
        "#4\n",
        "pgkt1 = 1e4\n",
        "kec_cahaya= 3e8\n",
        "print(kec_cahaya)"
      ],
      "execution_count": 1,
      "outputs": [
        {
          "output_type": "stream",
          "text": [
            "300000000.0\n"
          ],
          "name": "stdout"
        }
      ]
    }
  ]
}